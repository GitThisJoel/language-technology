{
 "cells": [
  {
   "cell_type": "markdown",
   "source": [
    "# Assignment #1: Building an inverted index\n",
    "Author: Pierre Nugues"
   ],
   "metadata": {}
  },
  {
   "cell_type": "markdown",
   "source": [
    "## Objectives"
   ],
   "metadata": {}
  },
  {
   "cell_type": "markdown",
   "source": [
    "The objectives of this assignment are to:\r\n",
    "* Write a program that collects all the words from a set of documents\r\n",
    "* Build an index from the words\r\n",
    "* Represent a document using the Tf.Idf values\r\n",
    "* Write a short report of 1 to 2 pages on the assignment\r\n",
    "* Read a description of an industrial system and answer a question on it"
   ],
   "metadata": {}
  },
  {
   "cell_type": "markdown",
   "source": [
    "## Submission"
   ],
   "metadata": {}
  },
  {
   "cell_type": "markdown",
   "source": [
    "When you have written all the missing code and run all the cells, you will submit your notebook to an automatic marking system. Do not erase the content of the cells as we will possibly check your programs manually.\n",
    "The submission instructions are at the bottom of the notebook."
   ],
   "metadata": {}
  },
  {
   "cell_type": "markdown",
   "source": [
    "## Description of the assignment"
   ],
   "metadata": {}
  },
  {
   "cell_type": "markdown",
   "source": [
    "### Outline"
   ],
   "metadata": {}
  },
  {
   "cell_type": "markdown",
   "source": [
    "In this lab, you will build an indexer to index all the words in a corpus. Conceptually, an index consists of rows with one word per row and the list of files and positions, where this word occurs. Such a row is called a _posting list_. You will encode the position of a word by the number of characters from the start of the file.\n",
    "<pre>\n",
    "word1: file_name pos1 pos2 pos3... file_name pos1 pos2 ...\n",
    "word2: file_name pos1 pos2 pos3... file_name pos1 pos2 ...\n",
    "...\n",
    "</pre>"
   ],
   "metadata": {}
  },
  {
   "cell_type": "markdown",
   "source": [
    "#### Imports"
   ],
   "metadata": {}
  },
  {
   "cell_type": "markdown",
   "source": [
    "Some imports. Add others as needed"
   ],
   "metadata": {}
  },
  {
   "cell_type": "code",
   "execution_count": 13,
   "source": [
    "import bz2\r\n",
    "import math\r\n",
    "import os\r\n",
    "import pickle\r\n",
    "import regex as re\r\n",
    "import requests\r\n",
    "import sys\r\n",
    "import time\r\n",
    "from zipfile import ZipFile"
   ],
   "outputs": [],
   "metadata": {}
  },
  {
   "cell_type": "markdown",
   "source": [
    "## Corpus"
   ],
   "metadata": {}
  },
  {
   "cell_type": "markdown",
   "source": [
    "You will create an index for a corpus of Selma Lagerlöf's works: To gather the corpus, you can alternatively:\n",
    "1. Download the <a href=\"https://github.com/pnugues/ilppp/raw/master/programs/corpus/Selma.zip\">Selma folder</a> and uncompress it. It contains novels by <a href=\"https://sv.wikipedia.org/wiki/Selma_Lagerl%C3%B6f\">Selma Lagerlöf</a>. The text of these novels was extracted from <a href=\"https://litteraturbanken.se/forfattare/LagerlofS/titlar\">Lagerlöf arkivet</a> at <a href=\"https://litteraturbanken.se/\">Litteraturbanken</a>.\n",
    "2. Or run this cell that will download the corpus and place it in your folder."
   ],
   "metadata": {}
  },
  {
   "cell_type": "code",
   "execution_count": 14,
   "source": [
    "# Parameters for Selma dataset\r\n",
    "SELMA_URL = \"https://github.com/pnugues/ilppp/raw/master/programs/corpus/Selma.zip\"\r\n",
    "\r\n",
    "SELMA_FILES = [\r\n",
    "    os.path.join(\"Selma\", fname) \r\n",
    "    for fname in \r\n",
    "    [\r\n",
    "        \"bannlyst.txt\", \r\n",
    "        \"gosta.txt\", \r\n",
    "        \"herrgard.txt\", \r\n",
    "        \"jerusalem.txt\", \r\n",
    "        \"kejsaren.txt\", \r\n",
    "        \"marbacka.txt\", \r\n",
    "        \"nils.txt\", \r\n",
    "        \"osynliga.txt\", \r\n",
    "        \"troll.txt\"\r\n",
    "    ]\r\n",
    "]\r\n",
    "\r\n",
    "def download_and_extract_selma():\r\n",
    "    \"\"\"Downloads and unpacks Selma.zip\"\"\"\r\n",
    "    \r\n",
    "    # Download if not all files exist\r\n",
    "    req = requests.get(SELMA_URL, stream=True)\r\n",
    "    if req.status_code != 200:\r\n",
    "        print(\"Failed to download file, got status: \" + req.status_code)\r\n",
    "        req.close()\r\n",
    "    else:\r\n",
    "        with open(\"Selma.zip\", \"wb\") as fd:\r\n",
    "            written = 0\r\n",
    "            for chunk in req.iter_content(chunk_size=65536):\r\n",
    "                fd.write(chunk)\r\n",
    "                written += len(chunk)\r\n",
    "                print(\"Downloading: %d bytes written to Selma.zip\" % written)\r\n",
    "\r\n",
    "        print(\"Selma.zip donwnloaded.\")\r\n",
    "        req.close()\r\n",
    "        \r\n",
    "        selma_zipfile = ZipFile(\"Selma.zip\")\r\n",
    "        selma_files_to_extract = [zi for zi in selma_zipfile.filelist if not zi.filename.startswith(\"__\") and zi.filename.endswith(\".txt\")]\r\n",
    "        for zi in selma_files_to_extract:\r\n",
    "            selma_zipfile.extract(zi)\r\n",
    "            print(\"Extracted: \" + zi.filename)\r\n",
    "            \r\n",
    "        print(\"Done!\")\r\n",
    "        \r\n",
    "# If not all path exists (all are true), then download\r\n",
    "if not all([os.path.exists(fname) for fname in SELMA_FILES]):\r\n",
    "    download_and_extract_selma()\r\n",
    "else:\r\n",
    "    print(\"Selma has been downloaded.\")\r\n",
    "    \r\n",
    "SELMA_FILES"
   ],
   "outputs": [
    {
     "output_type": "stream",
     "name": "stdout",
     "text": [
      "Selma has been downloaded.\n"
     ]
    },
    {
     "output_type": "execute_result",
     "data": {
      "text/plain": [
       "['Selma\\\\bannlyst.txt',\n",
       " 'Selma\\\\gosta.txt',\n",
       " 'Selma\\\\herrgard.txt',\n",
       " 'Selma\\\\jerusalem.txt',\n",
       " 'Selma\\\\kejsaren.txt',\n",
       " 'Selma\\\\marbacka.txt',\n",
       " 'Selma\\\\nils.txt',\n",
       " 'Selma\\\\osynliga.txt',\n",
       " 'Selma\\\\troll.txt']"
      ]
     },
     "metadata": {},
     "execution_count": 14
    }
   ],
   "metadata": {}
  },
  {
   "cell_type": "markdown",
   "source": [
    "### Running the indexer (optional)"
   ],
   "metadata": {}
  },
  {
   "cell_type": "markdown",
   "source": [
    "In a production context, your final program would take a corpus as input (here the Selma Lagerlöf's novels) and create an index of all the words with their positions. You should be able to run it this way:\n",
    "<pre>$ python indexer.py folder_name</pre>\n",
    "In this lab, you will write the index in a Jupyter Notebook. The conversion into a Python program is left as an optional exercise."
   ],
   "metadata": {}
  },
  {
   "cell_type": "markdown",
   "source": [
    "## Programming the Indexer"
   ],
   "metadata": {}
  },
  {
   "cell_type": "markdown",
   "source": [
    "To make programming easier, you will split this exercise into five steps:\n",
    "1. Index one file;\n",
    "2. Read the content of a folder\n",
    "3. Create a master index for all the files\n",
    "4. Use tfidf to represent the documents (novels)\n",
    "5. Compare the documents of a collection\n",
    "\n",
    "You will use dictionaries to represent the postings."
   ],
   "metadata": {}
  },
  {
   "cell_type": "markdown",
   "source": [
    "### Indexing one file"
   ],
   "metadata": {}
  },
  {
   "cell_type": "markdown",
   "source": [
    "#### Description"
   ],
   "metadata": {}
  },
  {
   "cell_type": "markdown",
   "source": [
    "<p>Write a program that reads one document <tt>file_name.txt</tt> and outputs an index file:\n",
    "            <tt>file_name.idx</tt>:\n",
    "        </p>\n",
    "        <ol>\n",
    "            <li>The index file will contain all the unique words in the document,\n",
    "                where each word is associated with the list of its positions in the document.\n",
    "            </li>\n",
    "            <li>You will represent this index as a dictionary, where the keys will be the words, and\n",
    "                the values, the lists of positions\n",
    "            </li>\n",
    "            <li>As words, you will consider all the strings of letters that you will set in lower case.\n",
    "                You will not index the rest (i.e. numbers, punctuations, or symbols).\n",
    "            </li>\n",
    "            <li>To extract the words, use Unicode regular expressions. Do not use <tt>\\w+</tt>,\n",
    "                for instance, but the Unicode equivalent.\n",
    "            </li>\n",
    "            <li>The word positions will correspond to the number of characters from the beginning of the file.\n",
    "                (The word offset from the beginning)\n",
    "            </li>\n",
    "            <li>You will use the <tt>finditer()</tt> method to find the positions of the words.\n",
    "                This will return you match objects,\n",
    "                where you will get the matches and the positions with\n",
    "                the <tt>group()</tt> and <tt>start()</tt> methods.\n",
    "            </li>\n",
    "            <li>You will use the pickle package to write your dictionary in an file,\n",
    "                see <a href=\"https://wiki.python.org/moin/UsingPickle\">https://wiki.python.org/moin/UsingPickle</a>.\n",
    "            </li>\n",
    "        </ol>"
   ],
   "metadata": {}
  },
  {
   "cell_type": "markdown",
   "source": [
    "Below is an excerpt of the index of the `bannlyst.txt` text for the words <i>gjord</i>, <i>uppklarnande</i>, and <i>stjärnor</i>. The data is stored in a dictionary:\n",
    "\n",
    "<pre>\n",
    "{...\n",
    "'gjord': [8600, 183039, 220445],\n",
    "'uppklarnande': [8617],\n",
    "'stjärnor': [8641], ...\n",
    "}\n",
    "</pre>\n",
    "where the word <i>gjord</i> occurs three times in the text at positions 8600, 183039, and 220445, <i>uppklarnande</i>, once at position 8617, and <i>stjärnor</i>, once at position 8641."
   ],
   "metadata": {}
  },
  {
   "cell_type": "markdown",
   "source": [
    "#### Writing a tokenizer "
   ],
   "metadata": {}
  },
  {
   "cell_type": "markdown",
   "source": [
    "Write a Unicode regular expression to find words defined as sequences of letters."
   ],
   "metadata": {}
  },
  {
   "cell_type": "code",
   "execution_count": 15,
   "source": [
    "# Write your regex here\r\n",
    "regex = r'\\p{L}+'"
   ],
   "outputs": [],
   "metadata": {}
  },
  {
   "cell_type": "code",
   "execution_count": 16,
   "source": [
    "re.findall(regex, 'En gång hade de på Mårbacka en barnpiga, som hette Back-Kajsa')"
   ],
   "outputs": [
    {
     "output_type": "execute_result",
     "data": {
      "text/plain": [
       "['En',\n",
       " 'gång',\n",
       " 'hade',\n",
       " 'de',\n",
       " 'på',\n",
       " 'Mårbacka',\n",
       " 'en',\n",
       " 'barnpiga',\n",
       " 'som',\n",
       " 'hette',\n",
       " 'Back',\n",
       " 'Kajsa']"
      ]
     },
     "metadata": {},
     "execution_count": 16
    }
   ],
   "metadata": {}
  },
  {
   "cell_type": "markdown",
   "source": [
    "Using `regex`, write `tokenize(text)` function to tokenize a text. Return their positions."
   ],
   "metadata": {}
  },
  {
   "cell_type": "code",
   "execution_count": 17,
   "source": [
    "# Write your code here\r\n",
    "\r\n",
    "# finditer \r\n",
    "def tokenize(text):\r\n",
    "    pattern = r'\\p{L}+'\r\n",
    "    return re.finditer(pattern, text)"
   ],
   "outputs": [],
   "metadata": {}
  },
  {
   "cell_type": "code",
   "execution_count": 18,
   "source": [
    "tokens = tokenize('En gång hade de på Mårbacka en barnpiga, som hette Back-Kajsa.')\r\n",
    "list(tokens)"
   ],
   "outputs": [
    {
     "output_type": "execute_result",
     "data": {
      "text/plain": [
       "[<regex.Match object; span=(0, 2), match='En'>,\n",
       " <regex.Match object; span=(3, 7), match='gång'>,\n",
       " <regex.Match object; span=(8, 12), match='hade'>,\n",
       " <regex.Match object; span=(13, 15), match='de'>,\n",
       " <regex.Match object; span=(16, 18), match='på'>,\n",
       " <regex.Match object; span=(19, 27), match='Mårbacka'>,\n",
       " <regex.Match object; span=(28, 30), match='en'>,\n",
       " <regex.Match object; span=(31, 39), match='barnpiga'>,\n",
       " <regex.Match object; span=(41, 44), match='som'>,\n",
       " <regex.Match object; span=(45, 50), match='hette'>,\n",
       " <regex.Match object; span=(51, 55), match='Back'>,\n",
       " <regex.Match object; span=(56, 61), match='Kajsa'>]"
      ]
     },
     "metadata": {},
     "execution_count": 18
    }
   ],
   "metadata": {}
  },
  {
   "cell_type": "markdown",
   "source": [
    "#### Extracting indices"
   ],
   "metadata": {}
  },
  {
   "cell_type": "markdown",
   "source": [
    "Write a `text_to_idx(words)` function to extract the indices from the list of tokens (words). Return a dictionary, where the keys will be the tokens (words), and the values a list of positions."
   ],
   "metadata": {}
  },
  {
   "cell_type": "code",
   "execution_count": 19,
   "source": [
    "# Write your code here\r\n",
    "def text_to_idx(tokens):\r\n",
    "    out_dict={}\r\n",
    "    for t in list(tokens): \r\n",
    "        word = t.group(0).lower()\r\n",
    "        ind = t.span(0)[0]\r\n",
    "        if word in out_dict:\r\n",
    "            out_dict[word].append(ind)\r\n",
    "        else:\r\n",
    "            out_dict[word] = [ind]\r\n",
    "    return out_dict"
   ],
   "outputs": [],
   "metadata": {}
  },
  {
   "cell_type": "code",
   "execution_count": 20,
   "source": [
    "tokens = tokenize('En gång hade de på Mårbacka en barnpiga, som hette Back-Kajsa.'.lower().strip())\r\n",
    "text_to_idx(tokens)"
   ],
   "outputs": [
    {
     "output_type": "execute_result",
     "data": {
      "text/plain": [
       "{'en': [0, 28],\n",
       " 'gång': [3],\n",
       " 'hade': [8],\n",
       " 'de': [13],\n",
       " 'på': [16],\n",
       " 'mårbacka': [19],\n",
       " 'barnpiga': [31],\n",
       " 'som': [41],\n",
       " 'hette': [45],\n",
       " 'back': [51],\n",
       " 'kajsa': [56]}"
      ]
     },
     "metadata": {},
     "execution_count": 20
    }
   ],
   "metadata": {}
  },
  {
   "cell_type": "markdown",
   "source": [
    "#### Reading one file"
   ],
   "metadata": {}
  },
  {
   "cell_type": "markdown",
   "source": [
    "Read one file, _Mårbacka_, `marbacka.txt`, set it in lowercase, tokenize it, and index it. Call this index `idx`"
   ],
   "metadata": {}
  },
  {
   "cell_type": "code",
   "execution_count": 21,
   "source": [
    "# Write your code here\r\n",
    "with open(r'Selma/marbacka.txt', 'r', encoding='utf-8') as f:\r\n",
    "    text = f.read() \r\n",
    "    f.close()\r\n",
    "\r\n",
    "idx = text_to_idx(tokenize(text))\r\n"
   ],
   "outputs": [],
   "metadata": {}
  },
  {
   "cell_type": "code",
   "execution_count": 22,
   "source": [
    "idx['mårbacka']"
   ],
   "outputs": [
    {
     "output_type": "execute_result",
     "data": {
      "text/plain": [
       "[16,\n",
       " 139,\n",
       " 752,\n",
       " 1700,\n",
       " 2582,\n",
       " 3324,\n",
       " 15117,\n",
       " 15404,\n",
       " 27794,\n",
       " 42175,\n",
       " 49126,\n",
       " 50407,\n",
       " 52053,\n",
       " 60144,\n",
       " 63374,\n",
       " 64910,\n",
       " 67182,\n",
       " 67330,\n",
       " 67799,\n",
       " 67824,\n",
       " 69232,\n",
       " 71328,\n",
       " 72099,\n",
       " 74147,\n",
       " 74255,\n",
       " 74614,\n",
       " 76610,\n",
       " 76884,\n",
       " 77138,\n",
       " 77509,\n",
       " 77787,\n",
       " 77936,\n",
       " 78574,\n",
       " 80597,\n",
       " 81782,\n",
       " 82003,\n",
       " 84363,\n",
       " 84786,\n",
       " 85251,\n",
       " 89837,\n",
       " 97093,\n",
       " 98642,\n",
       " 100474,\n",
       " 105063,\n",
       " 105298,\n",
       " 105721,\n",
       " 108710,\n",
       " 109133,\n",
       " 112844,\n",
       " 113725,\n",
       " 114997,\n",
       " 115583,\n",
       " 115833,\n",
       " 116368,\n",
       " 116557,\n",
       " 121896,\n",
       " 124823,\n",
       " 126409,\n",
       " 126542,\n",
       " 128758,\n",
       " 130976,\n",
       " 131939,\n",
       " 132826,\n",
       " 136914,\n",
       " 137187,\n",
       " 137872,\n",
       " 139196,\n",
       " 140721,\n",
       " 142324,\n",
       " 146781,\n",
       " 151497,\n",
       " 154335,\n",
       " 155139,\n",
       " 155438,\n",
       " 155886,\n",
       " 156405,\n",
       " 158108,\n",
       " 159817,\n",
       " 160107,\n",
       " 161158,\n",
       " 162085,\n",
       " 165847,\n",
       " 168316,\n",
       " 168528,\n",
       " 169111,\n",
       " 170333,\n",
       " 172684,\n",
       " 182047,\n",
       " 182427,\n",
       " 186362,\n",
       " 189535,\n",
       " 190999,\n",
       " 191110,\n",
       " 193177,\n",
       " 196686,\n",
       " 202552,\n",
       " 206340,\n",
       " 207789,\n",
       " 208382,\n",
       " 209874,\n",
       " 210525,\n",
       " 217464,\n",
       " 219933,\n",
       " 221393,\n",
       " 221533,\n",
       " 221880,\n",
       " 222213,\n",
       " 224190,\n",
       " 229501,\n",
       " 229598,\n",
       " 230783,\n",
       " 231453,\n",
       " 232140,\n",
       " 234427,\n",
       " 236193,\n",
       " 236950,\n",
       " 240168,\n",
       " 241891,\n",
       " 242359,\n",
       " 242934,\n",
       " 243030,\n",
       " 244831,\n",
       " 249882,\n",
       " 251277,\n",
       " 251901,\n",
       " 256360,\n",
       " 260244,\n",
       " 261612,\n",
       " 262384,\n",
       " 263856,\n",
       " 266638,\n",
       " 269760,\n",
       " 270113,\n",
       " 270674,\n",
       " 271146,\n",
       " 271885,\n",
       " 272560,\n",
       " 273464,\n",
       " 275086,\n",
       " 275664,\n",
       " 276207,\n",
       " 277407,\n",
       " 292648,\n",
       " 299762,\n",
       " 306277,\n",
       " 307507,\n",
       " 307972,\n",
       " 308148,\n",
       " 308330,\n",
       " 308568,\n",
       " 311856,\n",
       " 317491,\n",
       " 321194,\n",
       " 321925,\n",
       " 328154,\n",
       " 328470,\n",
       " 328977,\n",
       " 330435,\n",
       " 331650,\n",
       " 337494,\n",
       " 340526,\n",
       " 348636,\n",
       " 349331,\n",
       " 350022,\n",
       " 350168,\n",
       " 350674,\n",
       " 350949,\n",
       " 351349,\n",
       " 354175,\n",
       " 354411,\n",
       " 356314,\n",
       " 356541,\n",
       " 356788,\n",
       " 357522,\n",
       " 358413,\n",
       " 359478,\n",
       " 360511,\n",
       " 362108,\n",
       " 363675,\n",
       " 364467,\n",
       " 365049,\n",
       " 366954,\n",
       " 367286,\n",
       " 367741,\n",
       " 368878,\n",
       " 369487,\n",
       " 373757,\n",
       " 377123,\n",
       " 378852,\n",
       " 379696]"
      ]
     },
     "metadata": {},
     "execution_count": 22
    }
   ],
   "metadata": {}
  },
  {
   "cell_type": "markdown",
   "source": [
    "#### Saving the index"
   ],
   "metadata": {}
  },
  {
   "cell_type": "markdown",
   "source": [
    "Save your index in a file so that you can reuse it. Use the pickle module."
   ],
   "metadata": {}
  },
  {
   "cell_type": "code",
   "execution_count": 23,
   "source": [
    "# Write your code here\r\n",
    "marbacka_idx = r\"data/marbacka_idx.p\"\r\n",
    "pickle.dump(idx, open(marbacka_idx, \"wb\"))"
   ],
   "outputs": [],
   "metadata": {}
  },
  {
   "cell_type": "markdown",
   "source": [
    "Read back your file and store the content in `idx`"
   ],
   "metadata": {}
  },
  {
   "cell_type": "code",
   "execution_count": 24,
   "source": [
    "# Write your code here\r\n",
    "idx = pickle.load(open(marbacka_idx, \"rb\"))"
   ],
   "outputs": [],
   "metadata": {}
  },
  {
   "cell_type": "code",
   "execution_count": 25,
   "source": [
    "idx['mårbacka']"
   ],
   "outputs": [
    {
     "output_type": "execute_result",
     "data": {
      "text/plain": [
       "[16,\n",
       " 139,\n",
       " 752,\n",
       " 1700,\n",
       " 2582,\n",
       " 3324,\n",
       " 15117,\n",
       " 15404,\n",
       " 27794,\n",
       " 42175,\n",
       " 49126,\n",
       " 50407,\n",
       " 52053,\n",
       " 60144,\n",
       " 63374,\n",
       " 64910,\n",
       " 67182,\n",
       " 67330,\n",
       " 67799,\n",
       " 67824,\n",
       " 69232,\n",
       " 71328,\n",
       " 72099,\n",
       " 74147,\n",
       " 74255,\n",
       " 74614,\n",
       " 76610,\n",
       " 76884,\n",
       " 77138,\n",
       " 77509,\n",
       " 77787,\n",
       " 77936,\n",
       " 78574,\n",
       " 80597,\n",
       " 81782,\n",
       " 82003,\n",
       " 84363,\n",
       " 84786,\n",
       " 85251,\n",
       " 89837,\n",
       " 97093,\n",
       " 98642,\n",
       " 100474,\n",
       " 105063,\n",
       " 105298,\n",
       " 105721,\n",
       " 108710,\n",
       " 109133,\n",
       " 112844,\n",
       " 113725,\n",
       " 114997,\n",
       " 115583,\n",
       " 115833,\n",
       " 116368,\n",
       " 116557,\n",
       " 121896,\n",
       " 124823,\n",
       " 126409,\n",
       " 126542,\n",
       " 128758,\n",
       " 130976,\n",
       " 131939,\n",
       " 132826,\n",
       " 136914,\n",
       " 137187,\n",
       " 137872,\n",
       " 139196,\n",
       " 140721,\n",
       " 142324,\n",
       " 146781,\n",
       " 151497,\n",
       " 154335,\n",
       " 155139,\n",
       " 155438,\n",
       " 155886,\n",
       " 156405,\n",
       " 158108,\n",
       " 159817,\n",
       " 160107,\n",
       " 161158,\n",
       " 162085,\n",
       " 165847,\n",
       " 168316,\n",
       " 168528,\n",
       " 169111,\n",
       " 170333,\n",
       " 172684,\n",
       " 182047,\n",
       " 182427,\n",
       " 186362,\n",
       " 189535,\n",
       " 190999,\n",
       " 191110,\n",
       " 193177,\n",
       " 196686,\n",
       " 202552,\n",
       " 206340,\n",
       " 207789,\n",
       " 208382,\n",
       " 209874,\n",
       " 210525,\n",
       " 217464,\n",
       " 219933,\n",
       " 221393,\n",
       " 221533,\n",
       " 221880,\n",
       " 222213,\n",
       " 224190,\n",
       " 229501,\n",
       " 229598,\n",
       " 230783,\n",
       " 231453,\n",
       " 232140,\n",
       " 234427,\n",
       " 236193,\n",
       " 236950,\n",
       " 240168,\n",
       " 241891,\n",
       " 242359,\n",
       " 242934,\n",
       " 243030,\n",
       " 244831,\n",
       " 249882,\n",
       " 251277,\n",
       " 251901,\n",
       " 256360,\n",
       " 260244,\n",
       " 261612,\n",
       " 262384,\n",
       " 263856,\n",
       " 266638,\n",
       " 269760,\n",
       " 270113,\n",
       " 270674,\n",
       " 271146,\n",
       " 271885,\n",
       " 272560,\n",
       " 273464,\n",
       " 275086,\n",
       " 275664,\n",
       " 276207,\n",
       " 277407,\n",
       " 292648,\n",
       " 299762,\n",
       " 306277,\n",
       " 307507,\n",
       " 307972,\n",
       " 308148,\n",
       " 308330,\n",
       " 308568,\n",
       " 311856,\n",
       " 317491,\n",
       " 321194,\n",
       " 321925,\n",
       " 328154,\n",
       " 328470,\n",
       " 328977,\n",
       " 330435,\n",
       " 331650,\n",
       " 337494,\n",
       " 340526,\n",
       " 348636,\n",
       " 349331,\n",
       " 350022,\n",
       " 350168,\n",
       " 350674,\n",
       " 350949,\n",
       " 351349,\n",
       " 354175,\n",
       " 354411,\n",
       " 356314,\n",
       " 356541,\n",
       " 356788,\n",
       " 357522,\n",
       " 358413,\n",
       " 359478,\n",
       " 360511,\n",
       " 362108,\n",
       " 363675,\n",
       " 364467,\n",
       " 365049,\n",
       " 366954,\n",
       " 367286,\n",
       " 367741,\n",
       " 368878,\n",
       " 369487,\n",
       " 373757,\n",
       " 377123,\n",
       " 378852,\n",
       " 379696]"
      ]
     },
     "metadata": {},
     "execution_count": 25
    }
   ],
   "metadata": {}
  },
  {
   "cell_type": "markdown",
   "source": [
    "### Reading the content of a folder"
   ],
   "metadata": {}
  },
  {
   "cell_type": "markdown",
   "source": [
    "Write a `get_files(dir, suffix)` function that reads all the files in a folder with a specific `suffix` (txt). You will need the Python `os` package, see <a href=\"https://docs.python.org/3/library/os.html\">https://docs.python.org/3/library/os.html</a>. You will return the file names in a list."
   ],
   "metadata": {}
  },
  {
   "cell_type": "markdown",
   "source": [
    "You can reuse this function:"
   ],
   "metadata": {}
  },
  {
   "cell_type": "code",
   "execution_count": 26,
   "source": [
    "def get_files(dir, suffix):\r\n",
    "    \"\"\"\r\n",
    "    Returns all the files in a folder ending with suffix\r\n",
    "    :param dir:\r\n",
    "    :param suffix:\r\n",
    "    :return: the list of file names\r\n",
    "    \"\"\"\r\n",
    "    files = []\r\n",
    "    for file in os.listdir(dir):\r\n",
    "        if file.endswith(suffix):\r\n",
    "            files.append(file)\r\n",
    "    return files"
   ],
   "outputs": [],
   "metadata": {}
  },
  {
   "cell_type": "code",
   "execution_count": 27,
   "source": [
    "# Write your code here\r\n",
    "get_files(r\"Selma/\", \".txt\")"
   ],
   "outputs": [
    {
     "output_type": "execute_result",
     "data": {
      "text/plain": [
       "['bannlyst.txt',\n",
       " 'gosta.txt',\n",
       " 'herrgard.txt',\n",
       " 'jerusalem.txt',\n",
       " 'kejsaren.txt',\n",
       " 'marbacka.txt',\n",
       " 'nils.txt',\n",
       " 'osynliga.txt',\n",
       " 'troll.txt']"
      ]
     },
     "metadata": {},
     "execution_count": 27
    }
   ],
   "metadata": {}
  },
  {
   "cell_type": "markdown",
   "source": [
    "### Creating a master index"
   ],
   "metadata": {}
  },
  {
   "cell_type": "markdown",
   "source": [
    "Complete your program with the creation of master index, where you will associate each word of the corpus with the files, where it occur and its positions: a posting list\n",
    "Below is an except of the master index with the words <i>samlar</i> and <i>ände</i>:"
   ],
   "metadata": {}
  },
  {
   "cell_type": "code",
   "execution_count": 28,
   "source": [
    "{'samlar':\r\n",
    "            {'troll.txt': [641880, 654233],\r\n",
    "            'nils.txt': [51805, 118943],\r\n",
    "            'osynliga.txt': [399121],\r\n",
    "            'gosta.txt': [313784, 409998, 538165]},\r\n",
    " 'ände':\r\n",
    "            {'troll.txt': [39562, 650112],\r\n",
    "            'kejsaren.txt': [50171],\r\n",
    "            'marbacka.txt': [370324],\r\n",
    "            'nils.txt': [1794],\r\n",
    "            'osynliga.txt': [272144]}\r\n",
    "}"
   ],
   "outputs": [
    {
     "output_type": "execute_result",
     "data": {
      "text/plain": [
       "{'samlar': {'troll.txt': [641880, 654233],\n",
       "  'nils.txt': [51805, 118943],\n",
       "  'osynliga.txt': [399121],\n",
       "  'gosta.txt': [313784, 409998, 538165]},\n",
       " 'ände': {'troll.txt': [39562, 650112],\n",
       "  'kejsaren.txt': [50171],\n",
       "  'marbacka.txt': [370324],\n",
       "  'nils.txt': [1794],\n",
       "  'osynliga.txt': [272144]}}"
      ]
     },
     "metadata": {},
     "execution_count": 28
    }
   ],
   "metadata": {}
  },
  {
   "cell_type": "markdown",
   "source": [
    "The word <i>samlar</i>, for instance, occurs three times in the gosta text at positions\n",
    "            313784, 409998, and 538165."
   ],
   "metadata": {}
  },
  {
   "cell_type": "code",
   "execution_count": 29,
   "source": [
    "# write your code here\r\n",
    "master_index = {}\r\n",
    "files = get_files(r\"Selma/\", \".txt\")\r\n",
    "for text_file in files: \r\n",
    "    full_path = r\"Selma/\" + text_file\r\n",
    "    with open(full_path, 'r', encoding='utf-8') as f:\r\n",
    "        text = f.read()\r\n",
    "        f.close()\r\n",
    "    \r\n",
    "    idx = text_to_idx(tokenize(text))\r\n",
    "    for w, inds in idx.items():\r\n",
    "        if w in master_index:\r\n",
    "            master_index[w][text_file] = inds\r\n",
    "        else: \r\n",
    "            master_index[w] = {text_file: inds}"
   ],
   "outputs": [],
   "metadata": {}
  },
  {
   "cell_type": "code",
   "execution_count": 30,
   "source": [
    "master_index['samlar']"
   ],
   "outputs": [
    {
     "output_type": "execute_result",
     "data": {
      "text/plain": [
       "{'gosta.txt': [313784, 409998, 538165],\n",
       " 'nils.txt': [51805, 118943],\n",
       " 'osynliga.txt': [399121],\n",
       " 'troll.txt': [641880, 654233]}"
      ]
     },
     "metadata": {},
     "execution_count": 30
    }
   ],
   "metadata": {}
  },
  {
   "cell_type": "code",
   "execution_count": 31,
   "source": [
    "master_index['mårbacka']"
   ],
   "outputs": [
    {
     "output_type": "execute_result",
     "data": {
      "text/plain": [
       "{'marbacka.txt': [16,\n",
       "  139,\n",
       "  752,\n",
       "  1700,\n",
       "  2582,\n",
       "  3324,\n",
       "  15117,\n",
       "  15404,\n",
       "  27794,\n",
       "  42175,\n",
       "  49126,\n",
       "  50407,\n",
       "  52053,\n",
       "  60144,\n",
       "  63374,\n",
       "  64910,\n",
       "  67182,\n",
       "  67330,\n",
       "  67799,\n",
       "  67824,\n",
       "  69232,\n",
       "  71328,\n",
       "  72099,\n",
       "  74147,\n",
       "  74255,\n",
       "  74614,\n",
       "  76610,\n",
       "  76884,\n",
       "  77138,\n",
       "  77509,\n",
       "  77787,\n",
       "  77936,\n",
       "  78574,\n",
       "  80597,\n",
       "  81782,\n",
       "  82003,\n",
       "  84363,\n",
       "  84786,\n",
       "  85251,\n",
       "  89837,\n",
       "  97093,\n",
       "  98642,\n",
       "  100474,\n",
       "  105063,\n",
       "  105298,\n",
       "  105721,\n",
       "  108710,\n",
       "  109133,\n",
       "  112844,\n",
       "  113725,\n",
       "  114997,\n",
       "  115583,\n",
       "  115833,\n",
       "  116368,\n",
       "  116557,\n",
       "  121896,\n",
       "  124823,\n",
       "  126409,\n",
       "  126542,\n",
       "  128758,\n",
       "  130976,\n",
       "  131939,\n",
       "  132826,\n",
       "  136914,\n",
       "  137187,\n",
       "  137872,\n",
       "  139196,\n",
       "  140721,\n",
       "  142324,\n",
       "  146781,\n",
       "  151497,\n",
       "  154335,\n",
       "  155139,\n",
       "  155438,\n",
       "  155886,\n",
       "  156405,\n",
       "  158108,\n",
       "  159817,\n",
       "  160107,\n",
       "  161158,\n",
       "  162085,\n",
       "  165847,\n",
       "  168316,\n",
       "  168528,\n",
       "  169111,\n",
       "  170333,\n",
       "  172684,\n",
       "  182047,\n",
       "  182427,\n",
       "  186362,\n",
       "  189535,\n",
       "  190999,\n",
       "  191110,\n",
       "  193177,\n",
       "  196686,\n",
       "  202552,\n",
       "  206340,\n",
       "  207789,\n",
       "  208382,\n",
       "  209874,\n",
       "  210525,\n",
       "  217464,\n",
       "  219933,\n",
       "  221393,\n",
       "  221533,\n",
       "  221880,\n",
       "  222213,\n",
       "  224190,\n",
       "  229501,\n",
       "  229598,\n",
       "  230783,\n",
       "  231453,\n",
       "  232140,\n",
       "  234427,\n",
       "  236193,\n",
       "  236950,\n",
       "  240168,\n",
       "  241891,\n",
       "  242359,\n",
       "  242934,\n",
       "  243030,\n",
       "  244831,\n",
       "  249882,\n",
       "  251277,\n",
       "  251901,\n",
       "  256360,\n",
       "  260244,\n",
       "  261612,\n",
       "  262384,\n",
       "  263856,\n",
       "  266638,\n",
       "  269760,\n",
       "  270113,\n",
       "  270674,\n",
       "  271146,\n",
       "  271885,\n",
       "  272560,\n",
       "  273464,\n",
       "  275086,\n",
       "  275664,\n",
       "  276207,\n",
       "  277407,\n",
       "  292648,\n",
       "  299762,\n",
       "  306277,\n",
       "  307507,\n",
       "  307972,\n",
       "  308148,\n",
       "  308330,\n",
       "  308568,\n",
       "  311856,\n",
       "  317491,\n",
       "  321194,\n",
       "  321925,\n",
       "  328154,\n",
       "  328470,\n",
       "  328977,\n",
       "  330435,\n",
       "  331650,\n",
       "  337494,\n",
       "  340526,\n",
       "  348636,\n",
       "  349331,\n",
       "  350022,\n",
       "  350168,\n",
       "  350674,\n",
       "  350949,\n",
       "  351349,\n",
       "  354175,\n",
       "  354411,\n",
       "  356314,\n",
       "  356541,\n",
       "  356788,\n",
       "  357522,\n",
       "  358413,\n",
       "  359478,\n",
       "  360511,\n",
       "  362108,\n",
       "  363675,\n",
       "  364467,\n",
       "  365049,\n",
       "  366954,\n",
       "  367286,\n",
       "  367741,\n",
       "  368878,\n",
       "  369487,\n",
       "  373757,\n",
       "  377123,\n",
       "  378852,\n",
       "  379696],\n",
       " 'nils.txt': [991703],\n",
       " 'troll.txt': [226291, 387634, 392959]}"
      ]
     },
     "metadata": {},
     "execution_count": 31
    }
   ],
   "metadata": {}
  },
  {
   "cell_type": "markdown",
   "source": [
    "Save your master index in a file and read it again"
   ],
   "metadata": {}
  },
  {
   "cell_type": "code",
   "execution_count": 32,
   "source": [
    "# Write your code here\r\n",
    "master_file = r\"data/master_index.p\"\r\n",
    "pickle.dump(master_index, open(master_file, \"wb\"))\r\n",
    "master_index = pickle.load(open(master_file, \"rb\"))"
   ],
   "outputs": [],
   "metadata": {}
  },
  {
   "cell_type": "code",
   "execution_count": 33,
   "source": [
    "master_index['samlar']"
   ],
   "outputs": [
    {
     "output_type": "execute_result",
     "data": {
      "text/plain": [
       "{'gosta.txt': [313784, 409998, 538165],\n",
       " 'nils.txt': [51805, 118943],\n",
       " 'osynliga.txt': [399121],\n",
       " 'troll.txt': [641880, 654233]}"
      ]
     },
     "metadata": {},
     "execution_count": 33
    }
   ],
   "metadata": {}
  },
  {
   "cell_type": "markdown",
   "source": [
    "#### Concordances"
   ],
   "metadata": {}
  },
  {
   "cell_type": "markdown",
   "source": [
    "Write a `concordance(word, master_index, window)` function to extract the concordances of a `word` within a window of `window` characters"
   ],
   "metadata": {}
  },
  {
   "cell_type": "code",
   "execution_count": 34,
   "source": [
    "# Write your code here\r\n",
    "def open_file(fn):\r\n",
    "    with open(fn, 'r', encoding='utf-8') as f:\r\n",
    "        text = f.read()\r\n",
    "        f.close \r\n",
    "    return text\r\n",
    "\r\n",
    "files = get_files(r\"Selma/\", \".txt\")\r\n",
    "texts = {f: open_file(r\"Selma/\" + f) for f in files}\r\n",
    "\r\n",
    "def concordance(word, index, window):\r\n",
    "    out_text = \"\"\r\n",
    "    places = index[word]\r\n",
    "    for filename, inds in places.items():\r\n",
    "        text = texts[filename]\r\n",
    "        out_text += filename + \"\\n\"\r\n",
    "\r\n",
    "        for i in inds:\r\n",
    "            comb = text[i-window:i+window]\r\n",
    "            for i in range(len(comb)):\r\n",
    "                if comb[i].isspace():\r\n",
    "                    comb = comb[:i] + ' ' + comb[i+1:] \r\n",
    "            out_text += f\"\\t{comb}\\n\"\r\n",
    "    print(out_text)\r\n",
    "    return "
   ],
   "outputs": [],
   "metadata": {}
  },
  {
   "cell_type": "code",
   "execution_count": 35,
   "source": [
    "concordance('samlar', master_index, 25)"
   ],
   "outputs": [
    {
     "output_type": "stream",
     "name": "stdout",
     "text": [
      "gosta.txt\n",
      "\tom ligger nära Borg, och samlar ihop ett litet mid\n",
      "\tlika förstämda.  Men hon samlar upp allt detta som\n",
      "\tn ensam i livet.  Därmed samlar han korten tillhop\n",
      "nils.txt\n",
      "\t bara, att du i all hast samlar ihop så mycket bos\n",
      "\tar stannat hemma, och nu samlar de sig för att int\n",
      "osynliga.txt\n",
      "\t till höger i kärran och samlar just ihop tömmarna\n",
      "troll.txt\n",
      "\ten örtkunnig läkare, som samlar in markens växter \n",
      "\tälper dem, och medan hon samlar och handlar för de\n",
      "\n"
     ]
    }
   ],
   "metadata": {}
  },
  {
   "cell_type": "markdown",
   "source": [
    "### Representing Documents with tf-idf"
   ],
   "metadata": {}
  },
  {
   "cell_type": "markdown",
   "source": [
    "Once you have created the index, you will represent each document in your corpus as a dictionary. The keys of these dictionaries will be the words and you will define the value of a word with the tf-idf metric:\r\n",
    "\r\n",
    "1. Read the description of the tf-idf measure on Wikipedia (https://en.wikipedia.org/wiki/Tf-idf)\r\n",
    "2. After reading the description, you probably realized that there are multiple definitions of tf-idf. In this assignment,\r\n",
    "    * Tf will be the relative frequency of the term in the document and\r\n",
    "    * idf, the logarithm base 10 of the inverse document frequency.\r\n",
    "\r\n",
    "You have below the tf-idf values for a few words. In our example, the word gås has the value 0 in bannlyst.txt and the value 0.000101001964 in nils.txt"
   ],
   "metadata": {}
  },
  {
   "cell_type": "markdown",
   "source": [
    "Conceptually, the tf-idf representation is a vector. In your program, you will keep this idea and use all the words in the corpus as keys: Each dictionary will include all the words of the corpus as keys. The value of the key is then possibly 0, meaning that the word in not in the document or is in all the documents as for the word nils in gosta.tx.\r\n",
    "\r\n",
    "As further work, you may think of optimizing this part.\r\n"
   ],
   "metadata": {}
  },
  {
   "cell_type": "code",
   "execution_count": 36,
   "source": [
    "def gen_tfidf():\r\n",
    "    files = get_files(r\"Selma/\", \".txt\")\r\n",
    "    nbr_of_words = {f: 0 for f in files}\r\n",
    "    words_in_file = {}\r\n",
    "\r\n",
    "    for word, file_freq in master_index.items():\r\n",
    "        for filename, freq in file_freq.items():\r\n",
    "            nbr_of_words[filename] += len(freq)\r\n",
    "            if word in words_in_file:\r\n",
    "                words_in_file[word].add(filename)\r\n",
    "            else: \r\n",
    "                words_in_file[word] = {filename}\r\n",
    "\r\n",
    "    # tfidf -> {filename: {word: val}}\r\n",
    "    tfidf = {f: {} for f in files}\r\n",
    "        \r\n",
    "    for word in master_index:\r\n",
    "        present_in = words_in_file[word]\r\n",
    "        nbr_present_in = len(present_in)\r\n",
    "        \r\n",
    "        if nbr_present_in == len(files):\r\n",
    "            for f in words_in_file[word]:\r\n",
    "                tfidf[f][word] = 0.0\r\n",
    "        else: \r\n",
    "            for f in words_in_file[word]:\r\n",
    "                tf = len(master_index[word][f]) / nbr_of_words[f]\r\n",
    "                \r\n",
    "                assert len(words_in_file[word]) == nbr_present_in\r\n",
    "                idf = math.log(len(files) / nbr_present_in, 10)\r\n",
    "                tfidf[f][word] = float(tf*idf)\r\n",
    "    return tfidf\r\n",
    "tfidf = gen_tfidf()"
   ],
   "outputs": [],
   "metadata": {}
  },
  {
   "cell_type": "code",
   "execution_count": 37,
   "source": [
    "tfidf['troll.txt']['känna']"
   ],
   "outputs": [
    {
     "output_type": "execute_result",
     "data": {
      "text/plain": [
       "0.0"
      ]
     },
     "metadata": {},
     "execution_count": 37
    }
   ],
   "metadata": {}
  },
  {
   "cell_type": "code",
   "execution_count": 38,
   "source": [
    "tfidf['troll.txt']['nils']"
   ],
   "outputs": [
    {
     "output_type": "execute_result",
     "data": {
      "text/plain": [
       "2.1481617488686316e-06"
      ]
     },
     "metadata": {},
     "execution_count": 38
    }
   ],
   "metadata": {}
  },
  {
   "cell_type": "code",
   "execution_count": 39,
   "source": [
    "tfidf['kejsaren.txt']['et']"
   ],
   "outputs": [
    {
     "output_type": "execute_result",
     "data": {
      "text/plain": [
       "8.273225429362848e-05"
      ]
     },
     "metadata": {},
     "execution_count": 39
    }
   ],
   "metadata": {}
  },
  {
   "cell_type": "markdown",
   "source": [
    "### Comparing Documents"
   ],
   "metadata": {}
  },
  {
   "cell_type": "markdown",
   "source": [
    "Using the cosine similarity, compare all the pairs of documents with their tf-idf representation and present your results in a table. You will include this table in your report."
   ],
   "metadata": {}
  },
  {
   "cell_type": "markdown",
   "source": [
    "#### Cosine similarity"
   ],
   "metadata": {}
  },
  {
   "cell_type": "markdown",
   "source": [
    "Write a function computing the cosine similarity between two documents: `cosine_similarity(document1, document2)`"
   ],
   "metadata": {}
  },
  {
   "cell_type": "code",
   "execution_count": 40,
   "source": [
    "# Write your code here\r\n",
    "def cosine_similarity(document1, document2):\r\n",
    "    d1 = tfidf[document1]\r\n",
    "    d2 = tfidf[document2]\r\n",
    "    prod = 0\r\n",
    "    n1 = 0\r\n",
    "    n2 = 0\r\n",
    "    for w, v in d1.items():\r\n",
    "        if w in d2:\r\n",
    "            prod += v*d2[w]\r\n",
    "            n1 += v**2\r\n",
    "            n2 += d2[w]**2\r\n",
    "    return prod / (n1**0.5 * n2**0.5)\r\n",
    "cosine_similarity('herrgard.txt', 'jerusalem.txt')"
   ],
   "outputs": [
    {
     "output_type": "execute_result",
     "data": {
      "text/plain": [
       "0.9501345664745239"
      ]
     },
     "metadata": {},
     "execution_count": 40
    }
   ],
   "metadata": {}
  },
  {
   "cell_type": "markdown",
   "source": [
    "#### Similarity matrix"
   ],
   "metadata": {}
  },
  {
   "cell_type": "markdown",
   "source": [
    "Compute the similarity matrix between the documents of the corpus. While computing the similarities, you will record the two most similar documents that you will call `most_sim_doc1` and `most_sim_doc2`."
   ],
   "metadata": {}
  },
  {
   "cell_type": "code",
   "execution_count": 41,
   "source": [
    "# Write your code here\r\n",
    "def most_sim():\r\n",
    "    files = get_files(r\"Selma/\", \".txt\")\r\n",
    "    files.sort()\r\n",
    "    print(files)\r\n",
    "    \r\n",
    "    cs = {}\r\n",
    "    for f1 in files: \r\n",
    "        cs[f1] = [cosine_similarity(f1, f2) for f2 in files]\r\n",
    "    \r\n",
    "    max_similarity = 0\r\n",
    "    for f, sim in cs.items():\r\n",
    "        ss = sorted(sim, reverse=True)\r\n",
    "        m = ss[1]\r\n",
    "        if max_similarity < m:\r\n",
    "            max_similarity = m\r\n",
    "            most_sim_doc1 = f\r\n",
    "            most_sim_doc2 = files[sim.index(m)]\r\n",
    "\r\n",
    "        print(f\"{f} \" + \" \".join(str(round(s,4)) for s in sim))\r\n",
    "    return max_similarity, most_sim_doc1, most_sim_doc2\r\n",
    "max_similarity, most_sim_doc1, most_sim_doc2 = most_sim()"
   ],
   "outputs": [
    {
     "output_type": "stream",
     "name": "stdout",
     "text": [
      "['bannlyst.txt', 'gosta.txt', 'herrgard.txt', 'jerusalem.txt', 'kejsaren.txt', 'marbacka.txt', 'nils.txt', 'osynliga.txt', 'troll.txt']\n",
      "bannlyst.txt 1.0 0.8919 0.5458 0.4149 0.5378 0.6195 0.6986 0.6381 0.9109\n",
      "gosta.txt 0.8919 1.0 0.4895 0.3032 0.2312 0.4164 0.8639 0.7089 0.3677\n",
      "herrgard.txt 0.5458 0.4895 1.0 0.9501 0.3881 0.3482 0.1386 0.5779 0.4724\n",
      "jerusalem.txt 0.4149 0.3032 0.9501 1.0 0.1082 0.23 0.0557 0.2904 0.3199\n",
      "kejsaren.txt 0.5378 0.2312 0.3881 0.1082 1.0 0.2587 0.5602 0.7366 0.3333\n",
      "marbacka.txt 0.6195 0.4164 0.3482 0.23 0.2587 1.0 0.2901 0.5203 0.4591\n",
      "nils.txt 0.6986 0.8639 0.1386 0.0557 0.5602 0.2901 1.0 0.8968 0.6777\n",
      "osynliga.txt 0.6381 0.7089 0.5779 0.2904 0.7366 0.5203 0.8968 1.0 0.8841\n",
      "troll.txt 0.9109 0.3677 0.4724 0.3199 0.3333 0.4591 0.6777 0.8841 1.0\n"
     ]
    }
   ],
   "metadata": {}
  },
  {
   "cell_type": "markdown",
   "source": [
    "Give the name of the two novels that are the most similar."
   ],
   "metadata": {}
  },
  {
   "cell_type": "code",
   "execution_count": 218,
   "source": [
    "print(\"Most similar:\", most_sim_doc1, most_sim_doc2, \"Similarity:\", max_similarity)"
   ],
   "outputs": [
    {
     "output_type": "stream",
     "name": "stdout",
     "text": [
      "Most similar: herrgard.txt jerusalem.txt Similarity: 0.9510922674246374\n"
     ]
    }
   ],
   "metadata": {}
  },
  {
   "cell_type": "markdown",
   "source": [
    "## Submission"
   ],
   "metadata": {}
  },
  {
   "cell_type": "markdown",
   "source": [
    "When you have written all the code and run all the cells, fill in your IDs and as well as the name of the notebook."
   ],
   "metadata": {}
  },
  {
   "cell_type": "code",
   "execution_count": 213,
   "source": [
    "STIL_ID = [\"jo4383ba-s\"] # Write your stil ids\r\n",
    "CURRENT_NOTEBOOK_PATH = os.path.join(os.getcwd(), \r\n",
    "                                     \"1-indexer.ipynb\") # Write the name of your notebook"
   ],
   "outputs": [],
   "metadata": {}
  },
  {
   "cell_type": "markdown",
   "source": [
    "The submission code will send your answer. It consists of the two most similar novels."
   ],
   "metadata": {}
  },
  {
   "cell_type": "code",
   "execution_count": 214,
   "source": [
    "ANSWER = ' '.join(sorted([most_sim_doc1, most_sim_doc2]))\r\n",
    "ANSWER"
   ],
   "outputs": [
    {
     "output_type": "execute_result",
     "data": {
      "text/plain": [
       "'herrgard.txt jerusalem.txt'"
      ]
     },
     "metadata": {},
     "execution_count": 214
    }
   ],
   "metadata": {}
  },
  {
   "cell_type": "markdown",
   "source": [
    "Now the moment of truth:\n",
    "1. Save your notebook and\n",
    "2. Run the cells below"
   ],
   "metadata": {}
  },
  {
   "cell_type": "code",
   "execution_count": 215,
   "source": [
    "SUBMISSION_NOTEBOOK_PATH = CURRENT_NOTEBOOK_PATH + \".submission.bz2\""
   ],
   "outputs": [],
   "metadata": {}
  },
  {
   "cell_type": "code",
   "execution_count": 216,
   "source": [
    "ASSIGNMENT = 1\r\n",
    "API_KEY = \"f581ba347babfea0b8f2c74a3a6776a7\"\r\n",
    "\r\n",
    "# Copy and compress current notebook\r\n",
    "with bz2.open(SUBMISSION_NOTEBOOK_PATH, mode=\"wb\") as fout:\r\n",
    "    with open(CURRENT_NOTEBOOK_PATH, \"rb\") as fin:\r\n",
    "        fout.write(fin.read())"
   ],
   "outputs": [],
   "metadata": {}
  },
  {
   "cell_type": "code",
   "execution_count": 217,
   "source": [
    "res = requests.post(\"https://vilde.cs.lth.se/edan20checker/submit\", \r\n",
    "                    files={\"notebook_file\": open(SUBMISSION_NOTEBOOK_PATH, \"rb\")}, \r\n",
    "                    data={\r\n",
    "                        \"stil_id\": STIL_ID,\r\n",
    "                        \"assignment\": ASSIGNMENT,\r\n",
    "                        \"answer\": ANSWER,\r\n",
    "                        \"api_key\": API_KEY,\r\n",
    "                    },\r\n",
    "                   verify=False)\r\n",
    "\r\n",
    "\r\n",
    "# from IPython.display import display, JSON\r\n",
    "res.json()"
   ],
   "outputs": [
    {
     "output_type": "stream",
     "name": "stderr",
     "text": [
      "C:\\Users\\joelb\\AppData\\Local\\Packages\\PythonSoftwareFoundation.Python.3.9_qbz5n2kfra8p0\\LocalCache\\local-packages\\Python39\\site-packages\\urllib3\\connectionpool.py:1013: InsecureRequestWarning: Unverified HTTPS request is being made to host 'vilde.cs.lth.se'. Adding certificate verification is strongly advised. See: https://urllib3.readthedocs.io/en/latest/advanced-usage.html#ssl-warnings\n",
      "  warnings.warn(\n"
     ]
    },
    {
     "output_type": "execute_result",
     "data": {
      "text/plain": [
       "{'msg': None,\n",
       " 'status': 'correct',\n",
       " 'signature': 'a224cc9cbb696a5483f1b7193282d0fc358840e0833ee5fd016769f668e6a3de413725e520710124fe0d80deca275ff11b0e05c2bf43ca77dc634767f518c27d',\n",
       " 'submission_id': '1dcf6b5b-80e2-4aba-9524-6e6db6e1507f'}"
      ]
     },
     "metadata": {},
     "execution_count": 217
    }
   ],
   "metadata": {}
  },
  {
   "cell_type": "markdown",
   "source": [
    "Check the `status` and be sure it is `correct`. If not, revise your code; verify that you obtained intermediate results identical to those in the notebook; and resubmit your notebook. You can submit multiple times."
   ],
   "metadata": {}
  },
  {
   "cell_type": "markdown",
   "source": [
    "<h2>Turning in your assigment</h2>"
   ],
   "metadata": {}
  },
  {
   "cell_type": "markdown",
   "source": [
    "Now your are done with the program. To complete this assignment, you will:\n",
    "1. Write a short individual report on your program, \n",
    "2. Read the text <i>Challenges in Building Large-Scale Information Retrieval Systems</i> about the history of <a href=\"https://research.google.com/people/jeff/WSDM09-keynote.pdf\">Google indexing</a> by <a href=\"https://research.google.com/pubs/jeff.html\">Jeff Dean</a> and write a short comment on it. See the details below.\n",
    "\n",
    "You will submit your report as well as your notebook (for archiving purposes) to Canvas: <https://canvas.education.lu.se/>. To write your report, you can either\n",
    "1. Write directly your text in Canvas, or\n",
    "2. Use Latex and Overleaf (<a href=\"https://www.overleaf.com/\">www.overleaf.com</a>). This will probably help you structure your text. You will then upload a PDF file in Canvas.\n",
    "\n",
    "In your report of about two pages: \n",
    "1. You will describe your indexer and comment your results;\n",
    "2. You will tell how your index encoding is related to what Google did; \n",
    "3. You will identify the slide where you have the most similar indexing technique and write the slide title and the slide number in your report.\n",
    "\n",
    "\n",
    "The submission deadline is September 17, 2021."
   ],
   "metadata": {}
  }
 ],
 "metadata": {
  "kernelspec": {
   "name": "python3",
   "display_name": "Python 3.9.7 64-bit (windows store)"
  },
  "language_info": {
   "name": "python",
   "version": "3.9.7",
   "mimetype": "text/x-python",
   "codemirror_mode": {
    "name": "ipython",
    "version": 3
   },
   "pygments_lexer": "ipython3",
   "nbconvert_exporter": "python",
   "file_extension": ".py"
  },
  "interpreter": {
   "hash": "1583467dd2f57428b902cb64d68a5250792e1eccf6994c54bc9eb0b8bc1c6807"
  }
 },
 "nbformat": 4,
 "nbformat_minor": 4
}